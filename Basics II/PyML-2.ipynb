{
 "cells": [
  {
   "cell_type": "markdown",
   "metadata": {
    "slideshow": {
     "slide_type": "skip"
    }
   },
   "source": [
    "$\n",
    "\\newcommand{\\nc}{\\newcommand} \n",
    "\\nc{\\t}{\\text}\n",
    "\\nc{\\tb}{\\textbf}\n",
    "\\nc{\\ti}{\\textit}\n",
    "$"
   ]
  },
  {
   "cell_type": "markdown",
   "metadata": {
    "slideshow": {
     "slide_type": "slide"
    }
   },
   "source": [
    "# $$\\textbf{Python Programming for Machine Learning} $$ \n",
    "<br>\n",
    "\n",
    "### $$\\textbf{Python Basics II}$$\n",
    "\n",
    "#### $$\\text{Winter Semester 2022/23}$$\n",
    "\n",
    "<br>\n",
    "\n",
    "#### $$\\text{Sergej Dogadov and Panagiotis Tomer Karagianis}$$\n",
    "<br><br>\n",
    "<center>\n",
    "<img src='images/pyt.png' width=450>"
   ]
  },
  {
   "cell_type": "markdown",
   "metadata": {
    "slideshow": {
     "slide_type": "slide"
    }
   },
   "source": [
    "### $$\\lambda \\textbf{-function}$$\n",
    "<hr> "
   ]
  },
  {
   "cell_type": "code",
   "execution_count": 42,
   "metadata": {
    "slideshow": {
     "slide_type": "fragment"
    }
   },
   "outputs": [
    {
     "data": {
      "text/plain": [
       "5.0"
      ]
     },
     "execution_count": 42,
     "metadata": {},
     "output_type": "execute_result"
    }
   ],
   "source": [
    "# function can be seen as a variable defined via inline expression\n",
    "\n",
    "def f(x, y, coeff=1):\n",
    "    return coeff * (x ** 2 + y ** 2) ** 0.5\n",
    "\n",
    "f = lambda x, y, coeff=1: coeff * (x ** 2 + y ** 2) ** 0.5\n",
    "f(3, 4)"
   ]
  },
  {
   "cell_type": "markdown",
   "metadata": {
    "slideshow": {
     "slide_type": "fragment"
    }
   },
   "source": [
    "*  $\\text{In-line function definition}$"
   ]
  },
  {
   "cell_type": "code",
   "execution_count": 43,
   "metadata": {
    "slideshow": {
     "slide_type": "-"
    }
   },
   "outputs": [
    {
     "data": {
      "text/plain": [
       "5.0"
      ]
     },
     "execution_count": 43,
     "metadata": {},
     "output_type": "execute_result"
    }
   ],
   "source": [
    "# definition and execution without a name   \n",
    "(lambda x, y, coeff=1: coeff*(x ** 2 + y ** 2) ** 0.5) (3, 4)"
   ]
  },
  {
   "cell_type": "code",
   "execution_count": 44,
   "metadata": {
    "slideshow": {
     "slide_type": "fragment"
    }
   },
   "outputs": [
    {
     "data": {
      "text/plain": [
       "25.0"
      ]
     },
     "execution_count": 44,
     "metadata": {},
     "output_type": "execute_result"
    }
   ],
   "source": [
    "# Reassign function to other variable\n",
    "\n",
    "my_function = f\n",
    "my_function(3, 4, 5)"
   ]
  },
  {
   "cell_type": "markdown",
   "metadata": {
    "slideshow": {
     "slide_type": "slide"
    }
   },
   "source": [
    "### $$\\textbf{In-function }\\lambda \\textbf{ usage}$$\n",
    "<hr> "
   ]
  },
  {
   "cell_type": "code",
   "execution_count": 45,
   "metadata": {
    "slideshow": {
     "slide_type": "fragment"
    }
   },
   "outputs": [
    {
     "data": {
      "text/plain": [
       "(map, <map at 0x103c660a0>, [1, 4, 9, 16, 25, 36])"
      ]
     },
     "execution_count": 45,
     "metadata": {},
     "output_type": "execute_result"
    }
   ],
   "source": [
    "numbers = [1, 2, 3, 4, 5, 6]\n",
    "\n",
    "def square_(x: float):\n",
    "    return x ** 2\n",
    "\n",
    "squares = map(square_, numbers) # map(fn, x) apply fn on \"numbers\" element-wise\n",
    "\n",
    "type(squares), squares, list(squares)"
   ]
  },
  {
   "cell_type": "code",
   "execution_count": 46,
   "metadata": {
    "slideshow": {
     "slide_type": "fragment"
    }
   },
   "outputs": [
    {
     "data": {
      "text/plain": [
       "[1, 4, 9, 16, 25, 36]"
      ]
     },
     "execution_count": 46,
     "metadata": {},
     "output_type": "execute_result"
    }
   ],
   "source": [
    "#equivalent\n",
    "squares = map(lambda x: x**2, numbers) # map(fn, x) applies lambda function on \"numbers\" element-wise\n",
    "\n",
    "list(squares)"
   ]
  },
  {
   "cell_type": "markdown",
   "metadata": {
    "slideshow": {
     "slide_type": "fragment"
    }
   },
   "source": [
    "* $\\textbf{Example: } \\text{filter out the odd numbers.}$"
   ]
  },
  {
   "cell_type": "code",
   "execution_count": 47,
   "metadata": {
    "slideshow": {
     "slide_type": "-"
    }
   },
   "outputs": [
    {
     "data": {
      "text/plain": [
       "(filter, <filter at 0x103c75610>, [2, 4, 6])"
      ]
     },
     "execution_count": 47,
     "metadata": {},
     "output_type": "execute_result"
    }
   ],
   "source": [
    "result = filter(lambda x: x % 2 == 0, numbers) # only even numbers are allowed\n",
    "type(result), result, list(result)"
   ]
  },
  {
   "cell_type": "markdown",
   "metadata": {
    "slideshow": {
     "slide_type": "slide"
    }
   },
   "source": [
    "### $$\\textbf{Dictionaries} - \\text{(key, value) stores}$$\n",
    "<hr> "
   ]
  },
  {
   "cell_type": "markdown",
   "metadata": {
    "slideshow": {
     "slide_type": "fragment"
    }
   },
   "source": [
    "* $\\text{Create a data point (representing a fruit)}$"
   ]
  },
  {
   "cell_type": "code",
   "execution_count": 48,
   "metadata": {
    "slideshow": {
     "slide_type": "-"
    }
   },
   "outputs": [
    {
     "data": {
      "text/plain": [
       "(dict, {'color': 'green', 'taste': 'sweet', 'size 3d': [1, 3, 2]})"
      ]
     },
     "execution_count": 48,
     "metadata": {},
     "output_type": "execute_result"
    }
   ],
   "source": [
    "fruit = {\n",
    "    'color': 'green',\n",
    "    'taste': 'sweet',\n",
    "    'size 3d': [1, 3, 2]\n",
    "}\n",
    "\n",
    "type(fruit), fruit"
   ]
  },
  {
   "cell_type": "markdown",
   "metadata": {
    "slideshow": {
     "slide_type": "fragment"
    }
   },
   "source": [
    "* $\\text{Keys, getting access to values by a key}$"
   ]
  },
  {
   "cell_type": "code",
   "execution_count": 49,
   "metadata": {
    "slideshow": {
     "slide_type": "-"
    }
   },
   "outputs": [
    {
     "data": {
      "text/plain": [
       "'green'"
      ]
     },
     "execution_count": 49,
     "metadata": {},
     "output_type": "execute_result"
    }
   ],
   "source": [
    "#inplace values change by a key\n",
    "fruit['size 3d'] = [2, 3, 1]\n",
    "fruit['color']"
   ]
  },
  {
   "cell_type": "markdown",
   "metadata": {
    "slideshow": {
     "slide_type": "slide"
    }
   },
   "source": [
    "### $$\\textbf{Dictionaries (cont'd)}$$"
   ]
  },
  {
   "cell_type": "markdown",
   "metadata": {
    "slideshow": {
     "slide_type": "-"
    }
   },
   "source": [
    "* $\\text{Getting a default value}$"
   ]
  },
  {
   "cell_type": "code",
   "execution_count": 50,
   "metadata": {
    "slideshow": {
     "slide_type": "fragment"
    }
   },
   "outputs": [
    {
     "data": {
      "text/plain": [
       "1"
      ]
     },
     "execution_count": 50,
     "metadata": {},
     "output_type": "execute_result"
    }
   ],
   "source": [
    "# there was not key like 'price'\n",
    "fruit.setdefault('price', 1) # default value is returned"
   ]
  },
  {
   "cell_type": "code",
   "execution_count": 51,
   "metadata": {
    "slideshow": {
     "slide_type": "fragment"
    }
   },
   "outputs": [
    {
     "data": {
      "text/plain": [
       "2.5"
      ]
     },
     "execution_count": 51,
     "metadata": {},
     "output_type": "execute_result"
    }
   ],
   "source": [
    "new_fruit = {\n",
    "    'color': 'red',\n",
    "    'taste': 'sweet',\n",
    "    'price': 2.5\n",
    "}\n",
    "\n",
    "# in case the key exists the actual value is returned\n",
    "new_fruit.setdefault('price', 1)"
   ]
  },
  {
   "cell_type": "markdown",
   "metadata": {
    "slideshow": {
     "slide_type": "slide"
    }
   },
   "source": [
    "### $$\\textbf{Merge dictionaries}$$"
   ]
  },
  {
   "cell_type": "code",
   "execution_count": 52,
   "metadata": {
    "slideshow": {
     "slide_type": "-"
    }
   },
   "outputs": [
    {
     "data": {
      "text/plain": [
       "'two'"
      ]
     },
     "execution_count": 52,
     "metadata": {},
     "output_type": "execute_result"
    }
   ],
   "source": [
    "# create a new dict to be merged\n",
    "\n",
    "properties = {\n",
    "    'price' : 4,\n",
    "    'best before': 7,\n",
    "    True : 'sour',\n",
    "    1: 'two'\n",
    "}\n",
    "\n",
    "properties[1]"
   ]
  },
  {
   "cell_type": "code",
   "execution_count": 53,
   "metadata": {
    "slideshow": {
     "slide_type": "fragment"
    }
   },
   "outputs": [
    {
     "data": {
      "text/plain": [
       "{'color': 'green',\n",
       " 'taste': 'sweet',\n",
       " 'size 3d': [2, 3, 1],\n",
       " 'price': 4,\n",
       " 'best before': 7,\n",
       " True: 'two'}"
      ]
     },
     "execution_count": 53,
     "metadata": {},
     "output_type": "execute_result"
    }
   ],
   "source": [
    "# merge the dictionaries\n",
    "\n",
    "fruit.update(properties) # values will be updated\n",
    "fruit"
   ]
  },
  {
   "cell_type": "markdown",
   "metadata": {
    "slideshow": {
     "slide_type": "slide"
    }
   },
   "source": [
    "### $$\\textbf{Sets} - \\text{unique elements}$$\n",
    "<hr> "
   ]
  },
  {
   "cell_type": "code",
   "execution_count": 54,
   "metadata": {
    "slideshow": {
     "slide_type": "fragment"
    }
   },
   "outputs": [
    {
     "data": {
      "text/plain": [
       "(set, {2, 3, 4, 'text'})"
      ]
     },
     "execution_count": 54,
     "metadata": {},
     "output_type": "execute_result"
    }
   ],
   "source": [
    "lst = [2, 3, 4, 2, 4, \"text\" ] \n",
    "#init set from from list\n",
    "set_one = set(lst)\n",
    "\n",
    "type(set_one), set_one"
   ]
  },
  {
   "cell_type": "markdown",
   "metadata": {
    "slideshow": {
     "slide_type": "fragment"
    }
   },
   "source": [
    "* $\\textbf{Note: }\\text{list element is unhashable.}$ "
   ]
  },
  {
   "cell_type": "code",
   "execution_count": 55,
   "metadata": {
    "slideshow": {
     "slide_type": "-"
    }
   },
   "outputs": [
    {
     "ename": "TypeError",
     "evalue": "unhashable type: 'list'",
     "output_type": "error",
     "traceback": [
      "\u001b[0;31m---------------------------------------------------------------------------\u001b[0m",
      "\u001b[0;31mTypeError\u001b[0m                                 Traceback (most recent call last)",
      "Input \u001b[0;32mIn [55]\u001b[0m, in \u001b[0;36m<cell line: 2>\u001b[0;34m()\u001b[0m\n\u001b[1;32m      1\u001b[0m lst \u001b[38;5;241m=\u001b[39m [ \u001b[38;5;241m1\u001b[39m, [\u001b[38;5;241m3\u001b[39m, \u001b[38;5;241m3\u001b[39m], [\u001b[38;5;241m3\u001b[39m, \u001b[38;5;241m4\u001b[39m], [\u001b[38;5;241m3\u001b[39m, \u001b[38;5;241m4\u001b[39m]]\n\u001b[0;32m----> 2\u001b[0m \u001b[38;5;28;43mset\u001b[39;49m\u001b[43m(\u001b[49m\u001b[43mlst\u001b[49m\u001b[43m)\u001b[49m\n",
      "\u001b[0;31mTypeError\u001b[0m: unhashable type: 'list'"
     ]
    }
   ],
   "source": [
    "lst = [ 1, [3, 3], [3, 4], [3, 4]]\n",
    "set(lst)"
   ]
  },
  {
   "cell_type": "code",
   "execution_count": 56,
   "metadata": {
    "slideshow": {
     "slide_type": "fragment"
    }
   },
   "outputs": [
    {
     "data": {
      "text/plain": [
       "(set, {1, 2, 3, 4, 4.2, 6}, 6)"
      ]
     },
     "execution_count": 56,
     "metadata": {},
     "output_type": "execute_result"
    }
   ],
   "source": [
    "# explicit initialization\n",
    "set_two = {2, 3, 4, 2, 6, 2, 1, 4.2, True}\n",
    "type(set_two), set_two, list(set_two)[-1]"
   ]
  },
  {
   "cell_type": "code",
   "execution_count": 57,
   "metadata": {
    "slideshow": {
     "slide_type": "fragment"
    }
   },
   "outputs": [
    {
     "data": {
      "text/plain": [
       "{2, 3, 4, 's', 'text'}"
      ]
     },
     "execution_count": 57,
     "metadata": {},
     "output_type": "execute_result"
    }
   ],
   "source": [
    "# merge two sets\n",
    "set_one.update({'s'})\n",
    "set_one"
   ]
  },
  {
   "cell_type": "markdown",
   "metadata": {
    "slideshow": {
     "slide_type": "slide"
    }
   },
   "source": [
    "### $$\\textbf{Conditional expressions}$$\n",
    "<hr> "
   ]
  },
  {
   "cell_type": "markdown",
   "metadata": {
    "slideshow": {
     "slide_type": "fragment"
    }
   },
   "source": [
    "* $\\t{Example of classifying the following fruits: }$\n",
    "\n",
    "<br><br>\n",
    "\n",
    "<center>\n",
    "    <img src='./images/fruits.png' width='1200'/>"
   ]
  },
  {
   "cell_type": "markdown",
   "metadata": {
    "slideshow": {
     "slide_type": "slide"
    }
   },
   "source": [
    "### $$\\textbf{Decision for watermelon vs. apple vs. other}$$\n",
    "<hr> \n"
   ]
  },
  {
   "cell_type": "code",
   "execution_count": 58,
   "metadata": {
    "slideshow": {
     "slide_type": "fragment"
    }
   },
   "outputs": [],
   "source": [
    "def classify(x: dict) -> str:\n",
    "    \n",
    "    if x['color'] == 'green':   \n",
    "         \n",
    "        if x['size'] == 'big':\n",
    "            decision = 'watermelon'\n",
    "\n",
    "        elif x['size'] == 'medium':\n",
    "            decision = 'apple'                \n",
    "\n",
    "        else:\n",
    "            decision = 'other'           \n",
    "    else:\n",
    "        \n",
    "        decision = 'other'\n",
    "    \n",
    "    return decision"
   ]
  },
  {
   "cell_type": "code",
   "execution_count": 59,
   "metadata": {
    "slideshow": {
     "slide_type": "fragment"
    }
   },
   "outputs": [
    {
     "data": {
      "text/plain": [
       "('watermelon', 'apple', 'other')"
      ]
     },
     "execution_count": 59,
     "metadata": {},
     "output_type": "execute_result"
    }
   ],
   "source": [
    "# Multiple fruits represented by the dictionaries\n",
    "\n",
    "fruit_1 = {'color': 'green', 'size': 'big'}\n",
    "\n",
    "fruit_2 = {'color': 'green', 'size': 'medium'}\n",
    "\n",
    "fruit_3 = {'color': 'red', 'size': 'small'}\n",
    "\n",
    "classify(fruit_1), classify(fruit_2), classify(fruit_3)\n"
   ]
  },
  {
   "cell_type": "markdown",
   "metadata": {
    "slideshow": {
     "slide_type": "slide"
    }
   },
   "source": [
    "### $$\\textbf{Ternary condition operator}$$\n",
    "<hr> \n"
   ]
  },
  {
   "cell_type": "code",
   "execution_count": 60,
   "metadata": {
    "slideshow": {
     "slide_type": "fragment"
    }
   },
   "outputs": [
    {
     "data": {
      "text/plain": [
       "('different', 'same')"
      ]
     },
     "execution_count": 60,
     "metadata": {},
     "output_type": "execute_result"
    }
   ],
   "source": [
    "def compare(x: dict, y: dict) -> str: \n",
    "    \"\"\" \n",
    "        Compares two fruits either they are the same \n",
    "        \n",
    "        Args:\n",
    "            x (dict) : first fruit\n",
    "            y (dict) : second fruit\n",
    "            \n",
    "        Returns:\n",
    "            string : either 'same' or 'different'  \n",
    "    \"\"\"\n",
    "    \n",
    "    # Syntax: var =  {true_case} if {cond} else {false_case} \n",
    "    \n",
    "    return \"same\" if x == y else \"different\" # short if-else form \n",
    "\n",
    "compare(fruit_1, fruit_2), compare(fruit_1, fruit_1)"
   ]
  },
  {
   "cell_type": "markdown",
   "metadata": {
    "slideshow": {
     "slide_type": "slide"
    }
   },
   "source": [
    "### $$\\textbf{Iterators}$$\n",
    "<hr>  "
   ]
  },
  {
   "cell_type": "markdown",
   "metadata": {
    "slideshow": {
     "slide_type": "fragment"
    }
   },
   "source": [
    " * $\\t{Build-in }$ range $\\t{ function}$"
   ]
  },
  {
   "cell_type": "code",
   "execution_count": 61,
   "metadata": {},
   "outputs": [
    {
     "data": {
      "text/plain": [
       "([0, 1, 2, 3, 4, 5, 6, 7, 8, 9], range)"
      ]
     },
     "execution_count": 61,
     "metadata": {},
     "output_type": "execute_result"
    }
   ],
   "source": [
    "list(range(10)), type(range(10))\n"
   ]
  },
  {
   "cell_type": "code",
   "execution_count": 62,
   "metadata": {
    "scrolled": true,
    "slideshow": {
     "slide_type": "fragment"
    }
   },
   "outputs": [
    {
     "name": "stdout",
     "output_type": "stream",
     "text": [
      "2\n",
      "6\n",
      "10\n"
     ]
    }
   ],
   "source": [
    "for i in range(2, 13, 4): # start (opt), stop-1 (mandatory), step (opt)\n",
    "    print(i)"
   ]
  },
  {
   "cell_type": "markdown",
   "metadata": {
    "slideshow": {
     "slide_type": "fragment"
    }
   },
   "source": [
    "### $$\\textbf{Enumerator}$$\n",
    "<hr>  \n"
   ]
  },
  {
   "cell_type": "code",
   "execution_count": 63,
   "metadata": {
    "slideshow": {
     "slide_type": "-"
    }
   },
   "outputs": [
    {
     "name": "stdout",
     "output_type": "stream",
     "text": [
      "0 -> 03\n",
      "1 -> 07\n",
      "2 -> 11\n"
     ]
    }
   ],
   "source": [
    "for n, i in enumerate(range(3, 13, 4)): # start, stop-1, step\n",
    "    print(f'{n} -> {i:02d}')"
   ]
  },
  {
   "cell_type": "markdown",
   "metadata": {
    "slideshow": {
     "slide_type": "slide"
    }
   },
   "source": [
    "### $$\\textbf{Iteration through a list with different objects}$$\n",
    "<hr>  "
   ]
  },
  {
   "cell_type": "code",
   "execution_count": 64,
   "metadata": {
    "slideshow": {
     "slide_type": "fragment"
    }
   },
   "outputs": [
    {
     "name": "stdout",
     "output_type": "stream",
     "text": [
      "Full list: [5.0, (2, 3), 0.7071067811865476, 'some text', [1, 2, 3], 6, {2, 5}]\n",
      "====================================================================================================\n",
      "\n",
      "0 -> 5.0\n",
      "\n",
      "1 -> (2, 3)\n",
      "\n",
      "2 -> 0.7071067811865476\n",
      "\n",
      "0 -> 5.0\n",
      "\n",
      "1 -> (2, 3)\n",
      "\n",
      "2 -> 0.7071067811865476\n"
     ]
    }
   ],
   "source": [
    "a = [1, 2, 3]\n",
    "f = lambda x: sum(x)\n",
    "# [float, tuple, expr, str, var, func call, set]\n",
    "\n",
    "lst = [5., (2, 3), 2**-0.5, 'some text', a, f(a), {2, 5} ]\n",
    "\n",
    "print(f'Full list: {lst}')\n",
    "print(100 * '=')\n",
    "\n",
    "\n",
    "for i in range(2):\n",
    "\n",
    "    for i, element in enumerate(lst):\n",
    "\n",
    "        if type(element) == str:\n",
    "            break  # iteration is interrupted\n",
    "            #continue # the current cycle is skipped \n",
    "\n",
    "        print(f\"\\n{i} -> {element}\")"
   ]
  },
  {
   "cell_type": "markdown",
   "metadata": {
    "slideshow": {
     "slide_type": "fragment"
    }
   },
   "source": [
    "$\\text{Checking of the memory usage of your objects}$"
   ]
  },
  {
   "cell_type": "code",
   "execution_count": 65,
   "metadata": {
    "slideshow": {
     "slide_type": "fragment"
    }
   },
   "outputs": [
    {
     "data": {
      "text/plain": [
       "(48, 8000056)"
      ]
     },
     "execution_count": 65,
     "metadata": {},
     "output_type": "execute_result"
    }
   ],
   "source": [
    "import sys # conda install p_name, torch, cupy, scipy\n",
    "\n",
    "mylist = range(0, 1_000_000) # generator object\n",
    "sys.getsizeof(mylist), sys.getsizeof(list(mylist)) # explicit casting to int "
   ]
  },
  {
   "cell_type": "markdown",
   "metadata": {
    "slideshow": {
     "slide_type": "slide"
    }
   },
   "source": [
    "### $$\\textbf{Programming exercise}$$\n",
    "<hr>  "
   ]
  },
  {
   "cell_type": "markdown",
   "metadata": {
    "slideshow": {
     "slide_type": "fragment"
    }
   },
   "source": [
    "#### $\\textbf{Example:} \\text{ Given a data which is a list of dictionaries.}$"
   ]
  },
  {
   "cell_type": "code",
   "execution_count": 66,
   "metadata": {
    "slideshow": {
     "slide_type": "fragment"
    }
   },
   "outputs": [
    {
     "data": {
      "text/plain": [
       "(list, dict)"
      ]
     },
     "execution_count": 66,
     "metadata": {},
     "output_type": "execute_result"
    }
   ],
   "source": [
    "data = [\n",
    "  {'color': 'green', 'size': 'big'},\n",
    "  {'color': 'yellow', 'shape': 'round', 'size': 'big'},\n",
    "  {'color': 'red', 'size': 'medium'},\n",
    "  {'color': 'green', 'size': 'big'},\n",
    "  {'color': 'red', 'size': 'small', 'taste': 'sour'},\n",
    "  {'color': 'green', 'size': 'small'}\n",
    "]\n",
    "\n",
    "type(data), type(data[0])"
   ]
  },
  {
   "cell_type": "markdown",
   "metadata": {
    "slideshow": {
     "slide_type": "slide"
    }
   },
   "source": [
    "#### $\\textbf{Goal:} \\text{ to make a prediction for multiple observations.}$"
   ]
  },
  {
   "cell_type": "code",
   "execution_count": 67,
   "metadata": {
    "scrolled": true,
    "slideshow": {
     "slide_type": "fragment"
    }
   },
   "outputs": [
    {
     "name": "stdout",
     "output_type": "stream",
     "text": [
      "Fruit: {'color': 'green', 'size': 'big'} \n",
      "Class: watermelon \n",
      "\n",
      "Fruit: {'color': 'yellow', 'shape': 'round', 'size': 'big'} \n",
      "Class: other \n",
      "\n",
      "Fruit: {'color': 'red', 'size': 'medium'} \n",
      "Class: other \n",
      "\n",
      "Fruit: {'color': 'green', 'size': 'big'} \n",
      "Class: watermelon \n",
      "\n",
      "Fruit: {'color': 'red', 'size': 'small', 'taste': 'sour'} \n",
      "Class: other \n",
      "\n",
      "Fruit: {'color': 'green', 'size': 'small'} \n",
      "Class: other \n",
      "\n"
     ]
    },
    {
     "data": {
      "text/plain": [
       "('All:', ['watermelon', 'other', 'other', 'watermelon', 'other', 'other'])"
      ]
     },
     "execution_count": 67,
     "metadata": {},
     "output_type": "execute_result"
    }
   ],
   "source": [
    "results = []\n",
    "\n",
    "for x in data:\n",
    "    \n",
    "    res = classify(x)\n",
    "    \n",
    "    print(f'Fruit: {x} \\nClass: {res} \\n') # \\n is a so called \"carriage return\" sign it stands for a new line\n",
    "    \n",
    "    results.append(res) # equiv.to  results += [classify(x)]\n",
    "    \n",
    "\"All:\", results # tuple object is printed"
   ]
  },
  {
   "cell_type": "markdown",
   "metadata": {
    "slideshow": {
     "slide_type": "slide"
    }
   },
   "source": [
    "#### $\\text{The same goal can be achieved with list comprehensions:}$\n",
    "<hr> "
   ]
  },
  {
   "cell_type": "code",
   "execution_count": 68,
   "metadata": {
    "slideshow": {
     "slide_type": "fragment"
    }
   },
   "outputs": [
    {
     "data": {
      "text/plain": [
       "(list, ['watermelon', 'other', 'other', 'watermelon', 'other', 'other'])"
      ]
     },
     "execution_count": 68,
     "metadata": {},
     "output_type": "execute_result"
    }
   ],
   "source": [
    "results = [classify(x) for x in data]\n",
    "\n",
    "type(results), results"
   ]
  },
  {
   "cell_type": "markdown",
   "metadata": {
    "slideshow": {
     "slide_type": "fragment"
    }
   },
   "source": [
    " * This can also be combined with conditions:"
   ]
  },
  {
   "cell_type": "code",
   "execution_count": 69,
   "metadata": {
    "slideshow": {
     "slide_type": "-"
    }
   },
   "outputs": [
    {
     "data": {
      "text/plain": [
       "['watermelon', 'other', 'other', 'watermelon', 'other', 'other']"
      ]
     },
     "execution_count": 69,
     "metadata": {},
     "output_type": "execute_result"
    }
   ],
   "source": [
    "# Syntax: [expr iterator {condition}]\n",
    "\n",
    "[classify(x) if x['color'] == 'green' else 'other' for x in data]"
   ]
  },
  {
   "cell_type": "markdown",
   "metadata": {
    "slideshow": {
     "slide_type": "slide"
    }
   },
   "source": [
    "### $$\\textbf{Counting \"watermelon\" objects in the data}$$\n",
    "<hr> "
   ]
  },
  {
   "cell_type": "code",
   "execution_count": 70,
   "metadata": {
    "slideshow": {
     "slide_type": "fragment"
    }
   },
   "outputs": [
    {
     "data": {
      "text/plain": [
       "'Total number of watermelons is 2'"
      ]
     },
     "execution_count": 70,
     "metadata": {},
     "output_type": "execute_result"
    }
   ],
   "source": [
    "result = [classify(x) for x in data]\n",
    "\n",
    "obj = 'watermelon'\n",
    "\n",
    "count = 0\n",
    "for res in result:\n",
    "    \n",
    "    if res == obj:\n",
    "        count += 1\n",
    "\n",
    "f'Total number of {obj}s is {count}'"
   ]
  },
  {
   "cell_type": "markdown",
   "metadata": {
    "slideshow": {
     "slide_type": "fragment"
    }
   },
   "source": [
    "* $\\ti{Pythonic} \\text{ way using list comprehensions and build-in } \\tb{sum } \\t{function}: $"
   ]
  },
  {
   "cell_type": "code",
   "execution_count": 71,
   "metadata": {
    "slideshow": {
     "slide_type": "-"
    }
   },
   "outputs": [
    {
     "data": {
      "text/plain": [
       "'Total number of watermelons is 2'"
      ]
     },
     "execution_count": 71,
     "metadata": {},
     "output_type": "execute_result"
    }
   ],
   "source": [
    "# sum([True, False, True, ...]) -> sum([1, 0, 1,...])\n",
    "\n",
    "lst = [classify(x) for x in data]\n",
    "cnt = lst.count('watermelon')\n",
    "\n",
    "f'Total number of {obj}s is {cnt}'"
   ]
  },
  {
   "cell_type": "markdown",
   "metadata": {
    "slideshow": {
     "slide_type": "slide"
    }
   },
   "source": [
    "### $$\\textbf{Dictionary comprehensions}$$\n",
    "<hr>  "
   ]
  },
  {
   "cell_type": "code",
   "execution_count": 72,
   "metadata": {
    "slideshow": {
     "slide_type": "fragment"
    }
   },
   "outputs": [],
   "source": [
    "names = ['Anna', 'Bob', 'Carl']\n",
    "ages = [21, 18, 34]"
   ]
  },
  {
   "cell_type": "code",
   "execution_count": 73,
   "metadata": {},
   "outputs": [
    {
     "name": "stdout",
     "output_type": "stream",
     "text": [
      "('Anna', 21, 0, 32)\n",
      "('Bob', 18, 1, 1)\n",
      "('Carl', 34, 2, 4)\n"
     ]
    },
    {
     "data": {
      "text/plain": [
       "(zip, [])"
      ]
     },
     "execution_count": 73,
     "metadata": {},
     "output_type": "execute_result"
    }
   ],
   "source": [
    "# zip creates a list of tuples elementwise\n",
    "\n",
    "names_and_ages = zip(names, ages, (0, 1, 2), {1, 32, 4})\n",
    "\n",
    "for el in names_and_ages:\n",
    "    print(el)\n",
    "\n",
    "# zipping\n",
    "type(names_and_ages), list(names_and_ages)"
   ]
  },
  {
   "cell_type": "code",
   "execution_count": 74,
   "metadata": {
    "slideshow": {
     "slide_type": "fragment"
    }
   },
   "outputs": [
    {
     "data": {
      "text/plain": [
       "(dict, {21: 'Anna', 18: 'Bob', 34: 'Carl'})"
      ]
     },
     "execution_count": 74,
     "metadata": {},
     "output_type": "execute_result"
    }
   ],
   "source": [
    "# Comprehensions\n",
    "# {'age': value}\n",
    "# first loop key, value ('Anna', 21)\n",
    "\n",
    "dct = {name: age for name, age in zip(names, ages)}\n",
    "dct = {age: name for name, age in zip(names, ages)}\n",
    "type(dct), dct"
   ]
  },
  {
   "cell_type": "markdown",
   "metadata": {
    "slideshow": {
     "slide_type": "slide"
    }
   },
   "source": [
    "### $$\\textbf{Reading Data from a file}$$\n",
    "<hr>  "
   ]
  },
  {
   "cell_type": "markdown",
   "metadata": {
    "slideshow": {
     "slide_type": "fragment"
    }
   },
   "source": [
    "Content of file _scores.txt_ that lists the performance of players at a certain game:\n",
    "\n",
    "<br>\n",
    "\n",
    "`80,55,16,26,37,62,49,13,28,56`\n",
    "\n",
    "`43,45,47,63,43,65,10,52,30,18`\n",
    "\n",
    "`63,71,69,24,54,29,79,83,38,56`\n",
    "\n",
    "`46,42,39,14,47,40,72,43,57,47`\n",
    "\n",
    "`61,49,65,31,79,62,9,90,65,44`\n",
    "\n",
    "`10,28,16,6,61,72,78,55,54,48`"
   ]
  },
  {
   "cell_type": "markdown",
   "metadata": {
    "slideshow": {
     "slide_type": "slide"
    }
   },
   "source": [
    "#### $\\text{The following program reads a file and stores \n",
    "scores into a list}$\n",
    "<hr> "
   ]
  },
  {
   "cell_type": "markdown",
   "metadata": {
    "slideshow": {
     "slide_type": "fragment"
    }
   },
   "source": [
    "* `with` statement here takes care of opening and closing the file."
   ]
  },
  {
   "cell_type": "code",
   "execution_count": 32,
   "metadata": {
    "slideshow": {
     "slide_type": "-"
    }
   },
   "outputs": [
    {
     "name": "stdout",
     "output_type": "stream",
     "text": [
      "['80', '55', '16', '26', '37', '62', '49', '13', '28', '56']\n",
      "['43', '45', '47', '63', '43', '65', '10', '52', '30', '18']\n",
      "['63', '71', '69', '24', '54', '29', '79', '83', '38', '56']\n",
      "['46', '42', '39', '14', '47', '40', '72', '43', '57', '47']\n",
      "['61', '49', '65', '31', '79', '62', '9', '90', '65', '44']\n",
      "['10', '28', '16', '6', '61', '72', '78', '55', '54', '48']\n",
      "Data length: 60\n"
     ]
    },
    {
     "data": {
      "text/plain": [
       "'File content: [80.0, 55.0, 16.0, 26.0, 37.0, 62.0, 49.0, 13.0, 28.0, 56.0, 43.0, 45.0, 47.0, 63.0, 43.0, 65.0, 10.0, 52.0, 30.0, 18.0, 63.0, 71.0, 69.0, 24.0, 54.0, 29.0, 79.0, 83.0, 38.0, 56.0, 46.0, 42.0, 39.0, 14.0, 47.0, 40.0, 72.0, 43.0, 57.0, 47.0, 61.0, 49.0, 65.0, 31.0, 79.0, 62.0, 9.0, 90.0, 65.0, 44.0, 10.0, 28.0, 16.0, 6.0, 61.0, 72.0, 78.0, 55.0, 54.0, 48.0]'"
      ]
     },
     "execution_count": 32,
     "metadata": {},
     "output_type": "execute_result"
    }
   ],
   "source": [
    "with open('./scores.txt', 'r') as f: # f is then only available within the code block\n",
    "    \n",
    "    data = []\n",
    "    \n",
    "    for line in f:\n",
    "        \n",
    "        line_entries = line.strip().split(',')\n",
    "        \n",
    "        print(line_entries)\n",
    "        lst = [float(x) for x in line_entries]\n",
    "        #data.append(lst)\n",
    "        data.extend(lst)\n",
    "        # in contrast with\n",
    "        \n",
    "      \n",
    "    \n",
    "print(f'Data length: {len(data)}')\n",
    "f'File content: {data}'\n"
   ]
  },
  {
   "cell_type": "markdown",
   "metadata": {
    "slideshow": {
     "slide_type": "slide"
    }
   },
   "source": [
    "### $$\\textbf{Training and Test data separation}$$\n",
    "<hr>"
   ]
  },
  {
   "cell_type": "code",
   "execution_count": 33,
   "metadata": {
    "slideshow": {
     "slide_type": "fragment"
    }
   },
   "outputs": [
    {
     "name": "stdout",
     "output_type": "stream",
     "text": [
      "Train len: 48 \n",
      "Test len: 12\n"
     ]
    }
   ],
   "source": [
    "N = len(data)\n",
    "\n",
    "ratio = 0.8\n",
    "split = int(ratio * N) # 80 % of length\n",
    "\n",
    "train_data = data[:split]\n",
    "test_data  = data[split:]\n",
    "\n",
    "print(f\"Train len: {len(train_data)} \\nTest len: {len(test_data)}\")"
   ]
  },
  {
   "cell_type": "markdown",
   "metadata": {
    "slideshow": {
     "slide_type": "slide"
    }
   },
   "source": [
    "#### $\\text{Writing results back into a file with exception handling:}$\n",
    "<hr> "
   ]
  },
  {
   "cell_type": "code",
   "execution_count": 34,
   "metadata": {
    "slideshow": {
     "slide_type": "fragment"
    }
   },
   "outputs": [],
   "source": [
    "import os # imports package for file and dir handling\n",
    "\n",
    "\n",
    "def write(data, outfile='outputs.txt', folder='./data'):\n",
    "    \n",
    "    os.makedirs(folder, exist_ok=True)\n",
    "    filepath = os.path.join(folder, outfile)\n",
    "    \n",
    "    try:\n",
    "\n",
    "        # Make sure not to overwrite an existing file\n",
    "        if os.path.exists(filepath):\n",
    "            \n",
    "            raise Exception(f\"File '{filepath}' already exists.\")\n",
    "\n",
    "        with open(filepath, 'w') as f:  # 'a'\n",
    "            \n",
    "            f.write(str(data))\n",
    "            \n",
    "            print(f'Sucessfuly written to {filepath}')\n",
    "\n",
    "    except Exception as e:   \n",
    "        \n",
    "        #recreate_file(data, outfile)\n",
    "        print(f\"Exception occured: {e}\")"
   ]
  },
  {
   "cell_type": "code",
   "execution_count": 35,
   "metadata": {
    "slideshow": {
     "slide_type": "fragment"
    }
   },
   "outputs": [
    {
     "name": "stdout",
     "output_type": "stream",
     "text": [
      "Exception occured: File './data/train_scores.txt' already exists.\n",
      "Exception occured: File './data/te_scores.txt' already exists.\n"
     ]
    }
   ],
   "source": [
    "write(train_data, outfile='train_scores.txt')\n",
    "write(test_data, outfile='te_scores.txt')"
   ]
  },
  {
   "cell_type": "markdown",
   "metadata": {
    "slideshow": {
     "slide_type": "slide"
    }
   },
   "source": [
    "### $$\\textbf{Classes}$$\n",
    "<hr>  "
   ]
  },
  {
   "cell_type": "markdown",
   "metadata": {
    "slideshow": {
     "slide_type": "fragment"
    }
   },
   "source": [
    "$\\text{Classes are useful for modeling anything that has an internal state, for example, machine learning models.}$\n",
    "\n",
    "$\\text{The model below classifies whether a score is above/below the average.}$"
   ]
  },
  {
   "cell_type": "code",
   "execution_count": 36,
   "metadata": {
    "slideshow": {
     "slide_type": "fragment"
    }
   },
   "outputs": [],
   "source": [
    "class Classifier(object): # parent class \n",
    "    \n",
    "    mu = 10\n",
    "    \n",
    "    def __init__(self, name='Score'): # constructor (special method)\n",
    "        self.avg = 0\n",
    "        self.name = name\n",
    "        \n",
    "    # special method to define an object representation of the class\n",
    "    def __repr__(self):\n",
    "        return f'{self.name} classifier with avg: {self.avg:0.3f}'\n",
    "    \n",
    "    # methods\n",
    "    def train(self, data): \n",
    "        self.avg = sum(data) / len(data)\n",
    "        return self\n",
    "        \n",
    "    def predict(self, data):\n",
    "        return ['above' if x > self.avg else 'below' for x in data]\n",
    "    "
   ]
  },
  {
   "cell_type": "markdown",
   "metadata": {
    "slideshow": {
     "slide_type": "slide"
    }
   },
   "source": [
    "### $$\\textbf{Creation of a new classifier object}$$\n",
    "<hr> "
   ]
  },
  {
   "cell_type": "code",
   "execution_count": 37,
   "metadata": {
    "slideshow": {
     "slide_type": "fragment"
    }
   },
   "outputs": [
    {
     "name": "stdout",
     "output_type": "stream",
     "text": [
      "0 Custom 10\n",
      "Custom classifier with avg: 0.000\n",
      "Temp classifier with avg: 0.000\n"
     ]
    },
    {
     "data": {
      "text/plain": [
       "False"
      ]
     },
     "execution_count": 37,
     "metadata": {},
     "output_type": "execute_result"
    }
   ],
   "source": [
    "c = Classifier(name='Custom')\n",
    "print(c.avg, c.name, c.mu)\n",
    "\n",
    " # __repr__ function is called\n",
    "print(c)              \n",
    "\n",
    "d = Classifier(name='Temp')\n",
    "print(d)  \n",
    "\n",
    "c is d"
   ]
  },
  {
   "cell_type": "markdown",
   "metadata": {
    "slideshow": {
     "slide_type": "fragment"
    }
   },
   "source": [
    "* Get training and test datasets from _scores.txt_ file"
   ]
  },
  {
   "cell_type": "code",
   "execution_count": 38,
   "metadata": {
    "slideshow": {
     "slide_type": "-"
    }
   },
   "outputs": [
    {
     "name": "stdout",
     "output_type": "stream",
     "text": [
      "Data length: 60\n",
      "Train len: 48 Test len: 12\n"
     ]
    }
   ],
   "source": [
    "from utils import get_train_test_data\n",
    "\n",
    "train_data, test_data = get_train_test_data(path='./scores.txt', train_size=0.8)"
   ]
  },
  {
   "cell_type": "markdown",
   "metadata": {
    "slideshow": {
     "slide_type": "fragment"
    }
   },
   "source": [
    " * Train the classifier and inspect what the classifier has learned:"
   ]
  },
  {
   "cell_type": "code",
   "execution_count": 39,
   "metadata": {
    "slideshow": {
     "slide_type": "fragment"
    }
   },
   "outputs": [
    {
     "name": "stdout",
     "output_type": "stream",
     "text": [
      "Custom classifier with avg: 47.854\n"
     ]
    }
   ],
   "source": [
    "c.train(train_data)\n",
    "print(c)"
   ]
  },
  {
   "cell_type": "markdown",
   "metadata": {
    "slideshow": {
     "slide_type": "slide"
    }
   },
   "source": [
    "### $$\\textbf{Application of the test data to the model}$$\n",
    "<hr>"
   ]
  },
  {
   "cell_type": "code",
   "execution_count": 40,
   "metadata": {
    "slideshow": {
     "slide_type": "-"
    }
   },
   "outputs": [
    {
     "name": "stdout",
     "output_type": "stream",
     "text": [
      "Test data len: 12\n",
      "Avg: 47.854\n",
      "Test:  [65.0, 44.0, 10.0, 28.0, 16.0, 6.0, 61.0, 72.0, 78.0, 55.0, 54.0, 48.0]\n",
      "Pred:  ['above', 'below', 'below', 'below', 'below', 'below', 'above', 'above', 'above', 'above', 'above', 'above']\n"
     ]
    }
   ],
   "source": [
    "print(f\"Test data len: {len(test_data)}\")\n",
    "\n",
    "test_preds = c.predict(test_data)\n",
    "\n",
    "print(f\"Avg: {c.avg:0.3f}\")\n",
    "print(\"Test: \", test_data)\n",
    "print(\"Pred: \", test_preds)"
   ]
  },
  {
   "cell_type": "code",
   "execution_count": 41,
   "metadata": {
    "slideshow": {
     "slide_type": "fragment"
    }
   },
   "outputs": [
    {
     "data": {
      "text/plain": [
       "[(65.0, 'above'), (44.0, 'below'), (10.0, 'below'), (28.0, 'below')]"
      ]
     },
     "execution_count": 41,
     "metadata": {},
     "output_type": "execute_result"
    }
   ],
   "source": [
    "n_samples_to_print = 4\n",
    "\n",
    "res = zip(test_data[:n_samples_to_print], test_preds[:n_samples_to_print]) # zip combines two objects into a tuple elementwise\n",
    "\n",
    "list(res) # cast to list for printing\n"
   ]
  },
  {
   "cell_type": "markdown",
   "metadata": {
    "slideshow": {
     "slide_type": "slide"
    }
   },
   "source": [
    "# $$\\textbf{Thank you for your attention.}$$"
   ]
  },
  {
   "cell_type": "code",
   "execution_count": null,
   "metadata": {},
   "outputs": [],
   "source": []
  },
  {
   "cell_type": "code",
   "execution_count": null,
   "metadata": {},
   "outputs": [],
   "source": []
  },
  {
   "cell_type": "code",
   "execution_count": null,
   "metadata": {},
   "outputs": [],
   "source": []
  },
  {
   "cell_type": "code",
   "execution_count": null,
   "metadata": {},
   "outputs": [],
   "source": []
  },
  {
   "cell_type": "code",
   "execution_count": null,
   "metadata": {},
   "outputs": [],
   "source": []
  },
  {
   "cell_type": "code",
   "execution_count": null,
   "metadata": {},
   "outputs": [],
   "source": []
  },
  {
   "cell_type": "code",
   "execution_count": null,
   "metadata": {},
   "outputs": [],
   "source": []
  },
  {
   "cell_type": "code",
   "execution_count": null,
   "metadata": {},
   "outputs": [],
   "source": []
  },
  {
   "cell_type": "code",
   "execution_count": null,
   "metadata": {},
   "outputs": [],
   "source": []
  },
  {
   "cell_type": "code",
   "execution_count": null,
   "metadata": {},
   "outputs": [],
   "source": []
  },
  {
   "cell_type": "code",
   "execution_count": null,
   "metadata": {},
   "outputs": [],
   "source": []
  },
  {
   "cell_type": "code",
   "execution_count": null,
   "metadata": {},
   "outputs": [],
   "source": []
  },
  {
   "cell_type": "code",
   "execution_count": null,
   "metadata": {},
   "outputs": [],
   "source": []
  }
 ],
 "metadata": {
  "celltoolbar": "Slideshow",
  "kernelspec": {
   "display_name": "Python 3 (ipykernel)",
   "language": "python",
   "name": "python3"
  },
  "language_info": {
   "codemirror_mode": {
    "name": "ipython",
    "version": 3
   },
   "file_extension": ".py",
   "mimetype": "text/x-python",
   "name": "python",
   "nbconvert_exporter": "python",
   "pygments_lexer": "ipython3",
   "version": "3.9.13"
  }
 },
 "nbformat": 4,
 "nbformat_minor": 1
}
